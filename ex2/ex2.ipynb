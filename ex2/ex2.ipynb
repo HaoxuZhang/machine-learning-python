{
 "cells": [
  {
   "cell_type": "markdown",
   "metadata": {},
   "source": [
    "# Programming Exercise 2:Logistic Regression(in python)"
   ]
  },
  {
   "cell_type": "code",
   "execution_count": 1,
   "metadata": {
    "collapsed": true
   },
   "outputs": [],
   "source": [
    "import numpy as np\n",
    "import matplotlib.pyplot as plt\n",
    "import math\n",
    "%matplotlib inline"
   ]
  },
  {
   "cell_type": "markdown",
   "metadata": {},
   "source": [
    "## 1.Logistic Regression"
   ]
  },
  {
   "cell_type": "markdown",
   "metadata": {},
   "source": [
    "In this part of the exercise, you will build a logistic regression model to\n",
    "predict whether a student gets admitted into a university.\n",
    "Suppose that you are the administrator of a university department and\n",
    "you want to determine each applicant’s chance of admission based on their\n",
    "results on two exams. You have historical data from previous applicants\n",
    "that you can use as a training set for logistic regression. For each training\n",
    "example, you have the applicant’s scores on two exams and the admissions\n",
    "decision.\n",
    "Your task is to build a classification model that estimates an applicant’s\n",
    "probability of admission based the scores from those two exams."
   ]
  },
  {
   "cell_type": "markdown",
   "metadata": {},
   "source": [
    "### 1.1 Visualizeing the data"
   ]
  },
  {
   "cell_type": "markdown",
   "metadata": {},
   "source": [
    "Before starting to implement any learning algorithm, it is always good to\n",
    "visualize the data if possible."
   ]
  },
  {
   "cell_type": "code",
   "execution_count": 2,
   "metadata": {},
   "outputs": [
    {
     "data": {
      "image/png": "[encoded data removed]",
      "text/plain": [
       "<matplotlib.figure.Figure at 0x7f294ab8c048>"
      ]
     },
     "metadata": {},
     "output_type": "display_data"
    },
    {
     "name": "stdout",
     "output_type": "stream",
     "text": [
      "[[  1.          34.62365962  78.02469282]\n",
      " [  1.          30.28671077  43.89499752]\n",
      " [  1.          35.84740877  72.90219803]\n",
      " [  1.          60.18259939  86.3085521 ]\n",
      " [  1.          79.03273605  75.34437644]\n",
      " [  1.          45.08327748  56.31637178]\n",
      " [  1.          61.10666454  96.51142588]\n",
      " [  1.          75.02474557  46.55401354]\n",
      " [  1.          76.0987867   87.42056972]\n",
      " [  1.          84.43281996  43.53339331]\n",
      " [  1.          95.86155507  38.22527806]\n",
      " [  1.          75.01365839  30.60326323]\n",
      " [  1.          82.30705337  76.4819633 ]\n",
      " [  1.          69.36458876  97.71869196]\n",
      " [  1.          39.53833914  76.03681085]\n",
      " [  1.          53.97105215  89.20735014]\n",
      " [  1.          69.07014406  52.74046973]\n",
      " [  1.          67.94685548  46.67857411]\n",
      " [  1.          70.66150955  92.92713789]\n",
      " [  1.          76.97878373  47.57596365]\n",
      " [  1.          67.37202755  42.83843832]\n",
      " [  1.          89.67677575  65.79936593]\n",
      " [  1.          50.53478829  48.85581153]\n",
      " [  1.          34.21206098  44.2095286 ]\n",
      " [  1.          77.92409145  68.97235999]\n",
      " [  1.          62.27101367  69.95445795]\n",
      " [  1.          80.19018075  44.82162893]\n",
      " [  1.          93.1143888   38.80067034]\n",
      " [  1.          61.83020602  50.25610789]\n",
      " [  1.          38.7858038   64.99568096]\n",
      " [  1.          61.37928945  72.80788731]\n",
      " [  1.          85.40451939  57.05198398]\n",
      " [  1.          52.10797973  63.12762377]\n",
      " [  1.          52.04540477  69.43286012]\n",
      " [  1.          40.23689374  71.16774802]\n",
      " [  1.          54.63510555  52.21388588]\n",
      " [  1.          33.91550011  98.86943574]\n",
      " [  1.          64.17698887  80.90806059]\n",
      " [  1.          74.78925296  41.57341523]\n",
      " [  1.          34.18364003  75.23772034]\n",
      " [  1.          83.90239366  56.30804622]\n",
      " [  1.          51.54772027  46.85629026]\n",
      " [  1.          94.44336777  65.56892161]\n",
      " [  1.          82.36875376  40.61825516]\n",
      " [  1.          51.04775177  45.82270146]\n",
      " [  1.          62.22267576  52.06099195]\n",
      " [  1.          77.19303493  70.4582    ]\n",
      " [  1.          97.77159928  86.72782233]\n",
      " [  1.          62.0730638   96.76882412]\n",
      " [  1.          91.5649745   88.69629255]\n",
      " [  1.          79.94481794  74.16311935]\n",
      " [  1.          99.27252693  60.999031  ]\n",
      " [  1.          90.54671411  43.39060181]\n",
      " [  1.          34.52451385  60.39634246]\n",
      " [  1.          50.28649612  49.80453881]\n",
      " [  1.          49.58667722  59.80895099]\n",
      " [  1.          97.64563396  68.86157272]\n",
      " [  1.          32.57720017  95.59854761]\n",
      " [  1.          74.24869137  69.82457123]\n",
      " [  1.          71.79646206  78.45356225]\n",
      " [  1.          75.39561147  85.75993667]\n",
      " [  1.          35.28611282  47.02051395]\n",
      " [  1.          56.2538175   39.26147251]\n",
      " [  1.          30.05882245  49.59297387]\n",
      " [  1.          44.66826172  66.45008615]\n",
      " [  1.          66.56089447  41.09209808]\n",
      " [  1.          40.45755098  97.53518549]\n",
      " [  1.          49.07256322  51.88321182]\n",
      " [  1.          80.27957401  92.11606081]\n",
      " [  1.          66.74671857  60.99139403]\n",
      " [  1.          32.72283304  43.30717306]\n",
      " [  1.          64.03932042  78.03168802]\n",
      " [  1.          72.34649423  96.22759297]\n",
      " [  1.          60.45788574  73.0949981 ]\n",
      " [  1.          58.84095622  75.85844831]\n",
      " [  1.          99.8278578   72.36925193]\n",
      " [  1.          47.26426911  88.475865  ]\n",
      " [  1.          50.4581598   75.80985953]\n",
      " [  1.          60.45555629  42.50840944]\n",
      " [  1.          82.22666158  42.71987854]\n",
      " [  1.          88.91389642  69.8037889 ]\n",
      " [  1.          94.83450672  45.6943068 ]\n",
      " [  1.          67.31925747  66.58935318]\n",
      " [  1.          57.23870632  59.51428198]\n",
      " [  1.          80.366756    90.9601479 ]\n",
      " [  1.          68.46852179  85.5943071 ]\n",
      " [  1.          42.07545454  78.844786  ]\n",
      " [  1.          75.47770201  90.424539  ]\n",
      " [  1.          78.63542435  96.64742717]\n",
      " [  1.          52.34800399  60.76950526]\n",
      " [  1.          94.09433113  77.15910509]\n",
      " [  1.          90.44855097  87.50879176]\n",
      " [  1.          55.48216114  35.57070347]\n",
      " [  1.          74.49269242  84.84513685]\n",
      " [  1.          89.84580671  45.35828361]\n",
      " [  1.          83.48916274  48.3802858 ]\n",
      " [  1.          42.26170081  87.10385094]\n",
      " [  1.          99.31500881  68.77540947]\n",
      " [  1.          55.34001756  64.93193801]\n",
      " [  1.          74.775893    89.5298129 ]]\n"
     ]
    }
   ],
   "source": [
    "data=np.loadtxt('ex2data1.txt',delimiter=',')\n",
    "m=data.shape[0]\n",
    "n=data.shape[1]-1\n",
    "x1,x2,y=np.hsplit(data,3)\n",
    "X=np.hstack((np.ones((m,1)),x1,x2))\n",
    "sum0,sum1=0,0\n",
    "for i in range(m):\n",
    "    if y[i]==0:sum0+=1\n",
    "    elif y[i]==1:sum1+=1\n",
    "x1_0,x2_0=np.zeros((sum0)),np.zeros((sum0)) #represent the examples that y=0\n",
    "x1_1,x2_1=np.zeros((sum1)),np.zeros((sum1)) #represent the examples that y=1\n",
    "dex1,dex2=0,0\n",
    "for i in range(m):\n",
    "    if y[i]==0:\n",
    "        x1_0[dex1]=x1[i]\n",
    "        x2_0[dex1]=x2[i]\n",
    "        dex1+=1\n",
    "    elif y[i]==1:\n",
    "        x1_1[dex2]=x1[i]\n",
    "        x2_1[dex2]=x2[i]\n",
    "        dex2+=1\n",
    "#plot the data\n",
    "plt.figure(1)\n",
    "plt.plot(x1_0,x2_0,'bo',label=\"y=0\")\n",
    "plt.plot(x1_1,x2_1,'rx',label=\"y=1\")\n",
    "plt.xlabel(\"Exam 1 score\")\n",
    "plt.ylabel(\"Exam 2 score\")\n",
    "plt.title(\"Training data\")\n",
    "plt.legend()\n",
    "plt.show()\n",
    "print(X)"
   ]
  },
  {
   "cell_type": "markdown",
   "metadata": {},
   "source": [
    "### 1.2implementation"
   ]
  },
  {
   "cell_type": "markdown",
   "metadata": {},
   "source": [
    "#### 1.2.1 sigmoid function"
   ]
  },
  {
   "cell_type": "markdown",
   "metadata": {},
   "source": [
    "Before you start with the actual cost function, recall that the logistic regres-\n",
    "sion hypothesis is defined as:\n",
    "$$h_{\\theta }(x)=g(\\theta ^Tx)$$\n",
    "where function g is the sigmoid function. The sigmoid function is defined as:\n",
    "$$g(z)=\\frac{1}{1+e^{-z}}$$"
   ]
  },
  {
   "cell_type": "markdown",
   "metadata": {},
   "source": [
    "#### 1.2.2 Cost function and gradient"
   ]
  },
  {
   "cell_type": "markdown",
   "metadata": {},
   "source": [
    "cost function:\n",
    "$$J(\\theta )=-\\frac{1}{m}\\sum_{i=1}^{m}[y^{(i)}logh_{\\theta }(x^{(i)})+(1-y^{(i)})log(1-h_{\\theta }(x^{(i)}))]$$\n",
    "gradient descent:\n",
    "repeat{\n",
    "$$\\theta _{j}:=\\theta_{j}-\\alpha\\frac{\\partial }{\\partial \\theta _{j}}J(\\theta )$$\n",
    "}\n",
    "$$\\frac{\\partial }{\\partial \\theta _{j}}J(\\theta )=\\frac{1}{m}\\sum_{i=1}^{m}(h_{\\theta }(x)-y^{(i)})x_{j}^{(i)}$$"
   ]
  },
  {
   "cell_type": "code",
   "execution_count": 3,
   "metadata": {
    "collapsed": true
   },
   "outputs": [],
   "source": [
    "#define the H(theta) function\n",
    "def H_theta(theta,X):\n",
    "    res=1/(1+(math.e)**((-1)*(np.dot(X,theta))))\n",
    "    return res\n",
    "#define the J(theta) function\n",
    "def costfunction(theta,X,y):\n",
    "    global m\n",
    "    res=np.sum(-y*np.log(H_theta(theta,X))-(1-y)*np.log(1-H_theta(theta,X)))/m\n",
    "    return res\n",
    "#define the gradient descent function to update theta\n",
    "def gradient_descent(alpha,theta,X,y,iterations):\n",
    "    global m\n",
    "    for i in range(iterations):\n",
    "        theta=theta-alpha*(1/m)*np.dot(X.T,1/(1+math.e**((-1)*np.dot(X,theta)))-y)\n",
    "    return theta"
   ]
  },
  {
   "cell_type": "markdown",
   "metadata": {},
   "source": [
    "#### 1.2.4 Evaluating logistic regression"
   ]
  },
  {
   "cell_type": "markdown",
   "metadata": {},
   "source": [
    "After learning the parameters, you can use the model to predict whether a\n",
    "particular student will be admitted. For a student with an Exam 1 score\n",
    "of 45 and an Exam 2 score of 85, you should expect to see an admission\n",
    "probability of 0.776."
   ]
  },
  {
   "cell_type": "code",
   "execution_count": 4,
   "metadata": {},
   "outputs": [
    {
     "name": "stdout",
     "output_type": "stream",
     "text": [
      "0.69314718056\n",
      "[[-24.37770318]\n",
      " [  0.19996434]\n",
      " [  0.19513033]] 0.203591527064\n"
     ]
    }
   ],
   "source": [
    "#initialize theta,alpha and numbers of iterations\n",
    "theta=np.zeros((n+1,1))\n",
    "alpha=0.001\n",
    "iterations=8000000\n",
    "J_theta=costfunction(theta,X,y)\n",
    "print(J_theta)\n",
    "#start the gadient descent\n",
    "theta=gradient_descent(alpha,theta,X,y,iterations)\n",
    "J_theta=costfunction(theta,X,y)\n",
    "print(theta,J_theta)"
   ]
  },
  {
   "cell_type": "code",
   "execution_count": 5,
   "metadata": {},
   "outputs": [
    {
     "name": "stdout",
     "output_type": "stream",
     "text": [
      "my prediction is [ 0.76972694]\n",
      "the accurate prediction is 0.776\n"
     ]
    }
   ],
   "source": [
    "inp=np.array([1,45,85])\n",
    "predict=H_theta(theta,inp)\n",
    "print(\"my prediction is\",predict)\n",
    "print(\"the accurate prediction is 0.776\")"
   ]
  },
  {
   "cell_type": "code",
   "execution_count": 6,
   "metadata": {},
   "outputs": [
    {
     "data": {
      "image/png": "[encoded data removed]",
      "text/plain": [
       "<matplotlib.figure.Figure at 0x7f294ae1fef0>"
      ]
     },
     "metadata": {},
     "output_type": "display_data"
    }
   ],
   "source": [
    "#plot the figure with decision boundary\n",
    "plt.figure(1)\n",
    "x1_axis=np.linspace(20,100,100)\n",
    "plt.plot(x1_0,x2_0,'bo',label=\"y=0\")\n",
    "plt.plot(x1_1,x2_1,'rx',label=\"y=1\")\n",
    "plt.plot(x1_axis,(-theta[0]-theta[1]*x1_axis)/theta[2],'k-',label=\"decision boundary\")\n",
    "plt.xlabel(\"Exam 1 score\")\n",
    "plt.ylabel(\"Exam 2 score\")\n",
    "plt.title(\"Training data with decision boundary\")\n",
    "plt.legend()\n",
    "plt.show()"
   ]
  },
  {
   "cell_type": "markdown",
   "metadata": {},
   "source": [
    "## 2.Regularized logistic regression"
   ]
  },
  {
   "cell_type": "markdown",
   "metadata": {},
   "source": [
    "In this part of the exercise, you will implement regularized logistic regression\n",
    "to predict whether microchips from a fabrication plant passes quality assur-\n",
    "ance (QA). During QA, each microchip goes through various tests to ensure\n",
    "it is functioning correctly.\n",
    "Suppose you are the product manager of the factory and you have the\n",
    "test results for some microchips on two different tests. From these two tests,\n",
    "you would like to determine whether the microchips should be accepted or\n",
    "rejected. To help you make the decision, you have a dataset of test results\n",
    "on past microchips, from which you can build a logistic regression model."
   ]
  },
  {
   "cell_type": "markdown",
   "metadata": {},
   "source": [
    "### 2.1 Visualizing the data"
   ]
  },
  {
   "cell_type": "code",
   "execution_count": 7,
   "metadata": {},
   "outputs": [
    {
     "data": {
      "image/png": "[encoded data removed]",
      "text/plain": [
       "<matplotlib.figure.Figure at 0x7f2942b8da20>"
      ]
     },
     "metadata": {},
     "output_type": "display_data"
    }
   ],
   "source": [
    "data=np.loadtxt('ex2data2.txt',delimiter=',')\n",
    "m=data.shape[0] #numbers of examples\n",
    "x1,x2,y=np.hsplit(data,3)\n",
    "X=np.hstack((np.ones((m,1)),x1,x2))\n",
    "sum0,sum1=0,0\n",
    "for i in range(m):\n",
    "    if y[i]==0:sum0+=1\n",
    "    elif y[i]==1:sum1+=1\n",
    "x1_0,x2_0=np.zeros((sum0)),np.zeros((sum0)) #represent the examples that y=0\n",
    "x1_1,x2_1=np.zeros((sum1)),np.zeros((sum1)) #represent the examples that y=1\n",
    "dex1,dex2=0,0\n",
    "for i in range(m):\n",
    "    if y[i]==0:\n",
    "        x1_0[dex1]=x1[i]\n",
    "        x2_0[dex1]=x2[i]\n",
    "        dex1+=1\n",
    "    elif y[i]==1:\n",
    "        x1_1[dex2]=x1[i]\n",
    "        x2_1[dex2]=x2[i]\n",
    "        dex2+=1\n",
    "plt.plot(x1_0,x2_0,'bo',label='y=0')\n",
    "plt.plot(x1_1,x2_1,'rx',label='y=1')\n",
    "plt.xlabel('Microchip Test 1')\n",
    "plt.ylabel('Microchip Test 2')\n",
    "plt.title('Plot of training data')\n",
    "plt.legend()\n",
    "plt.show()"
   ]
  },
  {
   "cell_type": "markdown",
   "metadata": {},
   "source": [
    "### 2.2 Feature mapping"
   ]
  },
  {
   "cell_type": "markdown",
   "metadata": {},
   "source": [
    "One way to fit the data better is to create more features from each data\n",
    "point. In the provided function mapFeature.m, we will map the features into\n",
    "all polynomial terms of x 1 and x 2 up to the sixth power.\n",
    "$$mapFeature(x)=\\begin{bmatrix}1\\\\x_{1} \\\\x_{2}\\\\x_{1}^{2}\\\\x_{1}x_{2}\\\\x_{2}^{2} \\\\x_{1}^{3}\\\\\\vdots  \\\\x_{1}x_{2}^{5}\\\\x_{2}^{6} \\end{bmatrix}$$\n",
    "As a result of this mapping, our vector of two features (the scores on\n",
    "two QA tests) has been transformed into a 28-dimensional vector. A logistic\n",
    "regression classifier trained on this higher-dimension feature vector will have\n",
    "a more complex decision boundary and will appear nonlinear when drawn in\n",
    "our 2-dimensional plot.\n",
    "\n",
    "While the feature mapping allows us to build a more expressive classifier,\n",
    "it also more susceptible to overfitting. In the next parts of the exercise, you\n",
    "will implement regularized logistic regression to fit the data and also see for\n",
    "yourself how regularization can help combat the overfitting problem."
   ]
  },
  {
   "cell_type": "code",
   "execution_count": 8,
   "metadata": {
    "collapsed": true
   },
   "outputs": [],
   "source": [
    "#define the mapFeature function to map the features\n",
    "def mapFeature(x1,x2):\n",
    "    degree=6\n",
    "    result=np.ones((x1.shape[0],1))\n",
    "    for i in range(1,7):\n",
    "        for j in range(i+1):\n",
    "            result=np.hstack((result,np.power(x1,i-j)*np.power(x2,j)))\n",
    "    return result"
   ]
  },
  {
   "cell_type": "code",
   "execution_count": 9,
   "metadata": {},
   "outputs": [
    {
     "name": "stdout",
     "output_type": "stream",
     "text": [
      "[[   1.    1.    2.    1.    2.    4.    1.    2.    4.    8.    1.    2.\n",
      "     4.    8.   16.    1.    2.    4.    8.   16.   32.    1.    2.    4.\n",
      "     8.   16.   32.   64.]\n",
      " [   1.    2.    3.    4.    6.    9.    8.   12.   18.   27.   16.   24.\n",
      "    36.   54.   81.   32.   48.   72.  108.  162.  243.   64.   96.  144.\n",
      "   216.  324.  486.  729.]]\n"
     ]
    }
   ],
   "source": [
    "#map the features\n",
    "X=mapFeature(x1,x2)\n",
    "n=X.shape[1]-1 #numbers of features(not inlude x0)\n",
    "#test\n",
    "a=np.array([[1],[2]])\n",
    "b=np.array([[2],[3]])\n",
    "print(mapFeature(a,b))"
   ]
  },
  {
   "cell_type": "markdown",
   "metadata": {},
   "source": [
    "### 2.3 Cost function and gradient"
   ]
  },
  {
   "cell_type": "markdown",
   "metadata": {},
   "source": [
    "Now you will implement code to compute the cost function and gradient for\n",
    "regularized logistic regression.\n",
    "Recall that the regularized cost function in logistic regression is\n",
    "$$J(\\theta )=-\\frac{1}{m}\\sum_{i=1}^{m}[y^{(i)}logh_{\\theta }(x^{(i)})+(1-y^{(i)})log(1-h_{\\theta }(x^{(i)}))]+\\sum_{j=1}^{n}\\frac{\\lambda }{2m}\\theta _{j}^{2}$$\n",
    "Note that you should not regularize the parameter $\\theta_{0}$\n",
    "repeat{\n",
    "$$\\theta _{j}:=\\theta_{j}-\\alpha\\frac{\\partial }{\\partial \\theta _{j}}J(\\theta )$$\n",
    "}\n",
    "\n",
    "The gradient of the cost function is a vector where the j th element is defined as follows:\n",
    "for j=0:\n",
    "$$\\frac{\\partial }{\\partial \\theta _{0}}J(\\theta )=\\frac{1}{m}\\sum_{i=1}^{m}(h_{\\theta }(x)-y^{(i)})x_{0}^{(i)}$$\n",
    "for j>=1:\n",
    "$$\\frac{\\partial }{\\partial \\theta _{j}}J(\\theta )=\\frac{1}{m}\\sum_{i=1}^{m}(h_{\\theta }(x)-y^{(i)})x_{j}^{(i)}+\\frac{\\lambda }{m}\\theta _{j}$$\n",
    "Once you are done,use the initial value of θ (initialized to all zeros) with $\\lambda$=1. You should see that the\n",
    "cost is about 0.693. And use the initial value of $\\theta$ (initialized to all ones) with $\\lambda$=10.You should see that the cost is about 3.16"
   ]
  },
  {
   "cell_type": "code",
   "execution_count": 10,
   "metadata": {},
   "outputs": [
    {
     "name": "stdout",
     "output_type": "stream",
     "text": [
      "when theta=all zeros,lambda=1,test value of my costfunction is [[ 0.69314718]]\n",
      "expected cost(approx):0.693\n",
      "when theta=all ones,lambda=10,test value of my costfunction is [[ 3.16450933]]\n",
      "expected cost(approx):3.16\n"
     ]
    }
   ],
   "source": [
    "#define the regularized costfunction\n",
    "def costfunction_reg(theta,X,y,lambd):\n",
    "    global m\n",
    "    #split the theta to two parts,theta0 and the last,because the penalized term should not include theta0\n",
    "    theta0,theta_penalize=np.vsplit(theta,(1,))\n",
    "    J_theta=np.sum(-y*np.log(H_theta(theta,X))-(1-y)*np.log(1-H_theta(theta,X)))/m+\\\n",
    "    (lambd/(2*m))*np.dot(theta_penalize.T,theta_penalize)\n",
    "    return J_theta\n",
    "#test the costfunction\n",
    "initialized_theta=np.zeros((n+1,1))\n",
    "lambd=1\n",
    "testVal=costfunction_reg(initialized_theta,X,y,lambd)\n",
    "print(\"when theta=all zeros,lambda=1,test value of my costfunction is\",testVal)\n",
    "print(\"expected cost(approx):0.693\")\n",
    "initialized_theta=np.ones((n+1,1))\n",
    "lambd=10\n",
    "testVal=costfunction_reg(initialized_theta,X,y,lambd)\n",
    "print(\"when theta=all ones,lambda=10,test value of my costfunction is\",testVal)\n",
    "print(\"expected cost(approx):3.16\")"
   ]
  },
  {
   "cell_type": "code",
   "execution_count": 11,
   "metadata": {
    "collapsed": true
   },
   "outputs": [],
   "source": [
    "#define the gradient descent\n",
    "def gradient_descent_reg(theta,X,y,alpha,lambd,iterations):\n",
    "    global m\n",
    "    #because of the penalized term did not inlude theta0,so devide theta into to parts:theta0 and theta_penalize\n",
    "    #and X also should be devided into two parts\n",
    "    theta0,theta_penalize=np.vsplit(theta,(1,))\n",
    "    X0,X_penalize=np.hsplit(X,(1,))\n",
    "    for i in range(iterations):\n",
    "        theta0=theta0-alpha*(1/m)*np.dot(X0.T,H_theta(theta,X)-y)\n",
    "        theta_penalize=theta_penalize-alpha*((1/m)*np.dot(X_penalize.T,H_theta(theta,X)-y)+\\\n",
    "                                             (lambd/m)*theta_penalize)\n",
    "        theta=np.vstack((theta0,theta_penalize))\n",
    "    return theta"
   ]
  },
  {
   "cell_type": "markdown",
   "metadata": {},
   "source": [
    "explain the gradient_descent_reg:\n",
    "$\\theta_{0}$跟没有正则化之前是相同的更新方法，$\\theta_{1}$到$\\theta_{n}$前半部分与之前的更新方式相同，只是正则化需要在后面加上那一项，因此，编写代码时仍然可以使用矢量来编写，把theta横向分隔(np.vsplit)成两部分：theta0和剩下的部分theta_penalize，同样将X纵向分隔(np.hsplit)两部分：X0和剩下的部分X_penalize，然后分别来做矢量运算即可:\n",
    "$$\\theta_{0}=\\theta_{0}-\\alpha\\frac{1}{m}X_{0}(g(X\\theta)-y)$$\n",
    "$$\\theta_{penalize}=\\theta_{penalize}-\\alpha(\\frac{1}{m}X_{penalize}(g(X\\theta)-y)+\\frac{\\lambda}{m}\\theta_{penalize})$$\n",
    "然后再用vstack将更新后的theta0和theta_penalize合并即可(每次更新后都要合并从而更新theta)"
   ]
  },
  {
   "cell_type": "code",
   "execution_count": 12,
   "metadata": {},
   "outputs": [
    {
     "name": "stdout",
     "output_type": "stream",
     "text": [
      "[[ 1.27273939]\n",
      " [ 0.62527176]\n",
      " [ 1.18108859]\n",
      " [-2.01996051]\n",
      " [-0.91742349]\n",
      " [-1.43166404]\n",
      " [ 0.12400645]\n",
      " [-0.3655344 ]\n",
      " [-0.3572398 ]\n",
      " [-0.17513029]\n",
      " [-1.45815664]\n",
      " [-0.05098932]\n",
      " [-0.61555527]\n",
      " [-0.27470626]\n",
      " [-1.19281659]\n",
      " [-0.24218817]\n",
      " [-0.20600614]\n",
      " [-0.04473103]\n",
      " [-0.2777845 ]\n",
      " [-0.29537812]\n",
      " [-0.45635759]\n",
      " [-1.04320269]\n",
      " [ 0.02777154]\n",
      " [-0.29243146]\n",
      " [ 0.01556664]\n",
      " [-0.32737967]\n",
      " [-0.14388691]\n",
      " [-0.92465285]] [[ 0.52900273]]\n"
     ]
    }
   ],
   "source": [
    "#strat the gradient descent\n",
    "#initialize theta,alpha,lambda,iterations\n",
    "theta=np.zeros((n+1,1))\n",
    "alpha=3\n",
    "lambd=1\n",
    "iterations=500\n",
    "theta=gradient_descent_reg(theta,X,y,alpha,lambd,iterations)\n",
    "J_theta=costfunction_reg(theta,X,y,lambd)\n",
    "print(theta,J_theta)"
   ]
  },
  {
   "cell_type": "markdown",
   "metadata": {},
   "source": [
    "### 2.4 Plotting the decision boundary"
   ]
  },
  {
   "cell_type": "code",
   "execution_count": 13,
   "metadata": {
    "collapsed": true
   },
   "outputs": [],
   "source": [
    "#when the decision boundary is not linear,it's a little complex,so I define a function to plot decision boundary\n",
    "def plotDecisionBoundary(theta):\n",
    "    global lambd\n",
    "    #plot the training data\n",
    "    global x1_0,x2_0,x1_1,x2_1\n",
    "    plt.plot(x1_0,x2_0,'bo',label='y=0')\n",
    "    plt.plot(x1_1,x2_1,'rx',label='y=1')\n",
    "    plt.xlabel('Microchip Test 1')\n",
    "    plt.ylabel('Microchip Test 2')\n",
    "    #plot the contour\n",
    "    x1=np.linspace(-1,1.5,100)\n",
    "    x2=np.linspace(-1,1.5,100)\n",
    "    z=np.zeros((x1.shape[0],x2.shape[0]))\n",
    "    for i in range(x1.shape[0]):\n",
    "        for j in range(x2.shape[0]):\n",
    "            u=np.array([[x1[i]]])\n",
    "            v=np.array([[x2[j]]])\n",
    "            z[i][j]=np.dot(mapFeature(u,v),theta) #fill z\n",
    "    x1,x2=np.meshgrid(x1,x2)\n",
    "    z=z.T\n",
    "    plt.contour(x1,x2,z,np.array([0]),label='decision boundary')\n",
    "    plt.legend()\n",
    "    plt.title(r\"Plot of training data with decision boundary when $\\lambda$=\"+str(lambd))"
   ]
  },
  {
   "cell_type": "code",
   "execution_count": 14,
   "metadata": {},
   "outputs": [
    {
     "data": {
      "image/png": "[encoded data removed]",
      "text/plain": [
       "<matplotlib.figure.Figure at 0x7f2958d33358>"
      ]
     },
     "metadata": {},
     "output_type": "display_data"
    }
   ],
   "source": [
    "plotDecisionBoundary(theta)\n",
    "plt.title(\"Plot of training data with decision boundary\")\n",
    "plt.show()"
   ]
  },
  {
   "cell_type": "markdown",
   "metadata": {},
   "source": [
    "### 2.5 Plot decision boundary with different $\\lambda$"
   ]
  },
  {
   "cell_type": "code",
   "execution_count": 15,
   "metadata": {},
   "outputs": [
    {
     "data": {
      "image/png": "[encoded data removed]",
      "text/plain": [
       "<matplotlib.figure.Figure at 0x7f2942ac7e10>"
      ]
     },
     "metadata": {},
     "output_type": "display_data"
    }
   ],
   "source": [
    "#plot decision boundary when lambda=1\n",
    "plotDecisionBoundary(theta)\n",
    "plt.show()"
   ]
  },
  {
   "cell_type": "code",
   "execution_count": 16,
   "metadata": {},
   "outputs": [
    {
     "name": "stdout",
     "output_type": "stream",
     "text": [
      "[[  3.96987433e+00]\n",
      " [  1.31542394e-01]\n",
      " [  2.02977126e+00]\n",
      " [ -3.03275090e+01]\n",
      " [ -1.16485529e+01]\n",
      " [  2.75349289e+00]\n",
      " [ -8.95780763e+00]\n",
      " [  1.89577334e+01]\n",
      " [  3.43232147e+01]\n",
      " [  7.10174682e+00]\n",
      " [  1.13966900e+02]\n",
      " [  3.71956476e+01]\n",
      " [  3.28054492e+01]\n",
      " [ -3.05123442e+00]\n",
      " [ -3.32033333e+01]\n",
      " [  3.27456688e+01]\n",
      " [ -1.32129440e+01]\n",
      " [ -3.13080586e+01]\n",
      " [ -2.62060416e+01]\n",
      " [ -9.70297994e+00]\n",
      " [  1.57176853e+01]\n",
      " [ -1.52782001e+02]\n",
      " [ -7.91630781e+01]\n",
      " [ -3.96961034e+01]\n",
      " [  4.92256493e+01]\n",
      " [ -9.84211964e+01]\n",
      " [ -6.69004978e+01]\n",
      " [ -5.01354146e+00]] [[ 0.27016198]]\n"
     ]
    }
   ],
   "source": [
    "#restrat gradient descent when lambda=0\n",
    "theta=np.zeros((n+1,1))\n",
    "alpha=10\n",
    "lambd=0\n",
    "iterations=400000\n",
    "theta=gradient_descent_reg(theta,X,y,alpha,lambd,iterations)\n",
    "J_theta=costfunction_reg(theta,X,y,lambd)\n",
    "print(theta,J_theta)"
   ]
  },
  {
   "cell_type": "code",
   "execution_count": 17,
   "metadata": {},
   "outputs": [
    {
     "data": {
      "image/png": "[encoded data removed]",
      "text/plain": [
       "<matplotlib.figure.Figure at 0x7f2942d15c50>"
      ]
     },
     "metadata": {},
     "output_type": "display_data"
    }
   ],
   "source": [
    "#plot decision boundary when lambda=0\n",
    "plotDecisionBoundary(theta)\n",
    "plt.show()"
   ]
  },
  {
   "cell_type": "markdown",
   "metadata": {},
   "source": [
    "From the picture,we can know that it's overfitting"
   ]
  },
  {
   "cell_type": "code",
   "execution_count": 18,
   "metadata": {},
   "outputs": [
    {
     "name": "stdout",
     "output_type": "stream",
     "text": [
      "[[ 0.02187771]\n",
      " [-0.01748172]\n",
      " [ 0.00571079]\n",
      " [-0.05516895]\n",
      " [-0.01314877]\n",
      " [-0.03859858]\n",
      " [-0.01846356]\n",
      " [-0.00773219]\n",
      " [-0.00892429]\n",
      " [-0.02280452]\n",
      " [-0.04343846]\n",
      " [-0.00235623]\n",
      " [-0.01415612]\n",
      " [-0.00349508]\n",
      " [-0.04143588]\n",
      " [-0.02100593]\n",
      " [-0.00471917]\n",
      " [-0.00359131]\n",
      " [-0.00632226]\n",
      " [-0.00502441]\n",
      " [-0.03197676]\n",
      " [-0.03416335]\n",
      " [-0.00107629]\n",
      " [-0.00702615]\n",
      " [-0.00038506]\n",
      " [-0.0079823 ]\n",
      " [-0.00154779]\n",
      " [-0.04108677]] [[ 0.68648383]]\n"
     ]
    }
   ],
   "source": [
    "#restart gradient descent when lambda=100\n",
    "theta=np.zeros((n+1,1))\n",
    "alpha=1\n",
    "lambd=100\n",
    "iterations=400\n",
    "theta=gradient_descent_reg(theta,X,y,alpha,lambd,iterations)\n",
    "J_theta=costfunction_reg(theta,X,y,lambd)\n",
    "print(theta,J_theta)"
   ]
  },
  {
   "cell_type": "code",
   "execution_count": 19,
   "metadata": {},
   "outputs": [
    {
     "data": {
      "image/png": "[encoded data removed]",
      "text/plain": [
       "<matplotlib.figure.Figure at 0x7f2942aed6a0>"
      ]
     },
     "metadata": {},
     "output_type": "display_data"
    }
   ],
   "source": [
    "#plot decision boundary when lambda=100\n",
    "plotDecisionBoundary(theta)\n",
    "plt.show()"
   ]
  },
  {
   "cell_type": "markdown",
   "metadata": {},
   "source": [
    "From the picture,we can know that it's underfitting"
   ]
  }
 ],
 "metadata": {
  "kernelspec": {
   "display_name": "Python 3",
   "language": "python",
   "name": "python3"
  },
  "language_info": {
   "codemirror_mode": {
    "name": "ipython",
    "version": 3
   },
   "file_extension": ".py",
   "mimetype": "text/x-python",
   "name": "python",
   "nbconvert_exporter": "python",
   "pygments_lexer": "ipython3",
   "version": "3.6.2"
  }
 },
 "nbformat": 4,
 "nbformat_minor": 2
}
